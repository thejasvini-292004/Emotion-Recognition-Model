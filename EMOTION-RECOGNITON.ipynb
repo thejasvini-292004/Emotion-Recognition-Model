{
 "cells": [
  {
   "cell_type": "code",
   "execution_count": 2,
   "id": "4b16ca5e-3d77-47ec-bb8f-521ff2dec986",
   "metadata": {},
   "outputs": [
    {
     "name": "stdout",
     "output_type": "stream",
     "text": [
      "Collecting pydub\n",
      "  Using cached pydub-0.25.1-py2.py3-none-any.whl.metadata (1.4 kB)\n",
      "Using cached pydub-0.25.1-py2.py3-none-any.whl (32 kB)\n",
      "Installing collected packages: pydub\n",
      "Successfully installed pydub-0.25.1\n"
     ]
    }
   ],
   "source": [
    "!pip install pydub\n",
    "\n"
   ]
  },
  {
   "cell_type": "code",
   "execution_count": 3,
   "id": "804455aa-84e0-411c-9afb-9fc7240329a9",
   "metadata": {},
   "outputs": [
    {
     "name": "stdout",
     "output_type": "stream",
     "text": [
      "None\n"
     ]
    },
    {
     "name": "stderr",
     "output_type": "stream",
     "text": [
      "C:\\Users\\luffy\\anaconda\\Lib\\site-packages\\pydub\\utils.py:170: RuntimeWarning: Couldn't find ffmpeg or avconv - defaulting to ffmpeg, but may not work\n",
      "  warn(\"Couldn't find ffmpeg or avconv - defaulting to ffmpeg, but may not work\", RuntimeWarning)\n"
     ]
    }
   ],
   "source": [
    "from pydub.utils import which\n",
    "print(which(\"ffmpeg\"))\n"
   ]
  },
  {
   "cell_type": "code",
   "execution_count": 4,
   "id": "5514f6b1-0b0e-40e6-b9b3-8f8f66e02ff7",
   "metadata": {},
   "outputs": [],
   "source": [
    "from pydub import AudioSegment\n",
    "\n",
    "AudioSegment.converter = r\"E:\\Downloads\\ffmpeg-7.1.1-essentials_build\\bin\\ffmpeg.exe\"\n"
   ]
  },
  {
   "cell_type": "code",
   "execution_count": 6,
   "id": "40fe3a65-c073-484b-a8c0-3171078b1b28",
   "metadata": {},
   "outputs": [
    {
     "name": "stdout",
     "output_type": "stream",
     "text": [
      "FFmpeg Path: E:\\Downloads\\ffmpeg-7.1.1-full_build\\bin\\ffmpeg.exe\n"
     ]
    }
   ],
   "source": [
    "from pydub import AudioSegment\n",
    "from pydub.utils import which\n",
    "\n",
    "# Set FFmpeg path manually if not auto-detected\n",
    "AudioSegment.converter = r\"E:\\Downloads\\ffmpeg-7.1.1-full_build\\bin\\ffmpeg.exe\"\n",
    "\n",
    "# Confirm it's set\n",
    "print(\"FFmpeg Path:\", AudioSegment.converter)\n"
   ]
  },
  {
   "cell_type": "code",
   "execution_count": 16,
   "id": "2d4dbbee-4203-46bd-af7f-a2cf8a234052",
   "metadata": {},
   "outputs": [
    {
     "name": "stdout",
     "output_type": "stream",
     "text": [
      "Requirement already satisfied: librosa in c:\\users\\luffy\\anaconda\\lib\\site-packages (0.11.0)\n",
      "Requirement already satisfied: torch in c:\\users\\luffy\\anaconda\\lib\\site-packages (2.6.0)\n",
      "Requirement already satisfied: numpy in c:\\users\\luffy\\anaconda\\lib\\site-packages (1.26.4)\n",
      "Requirement already satisfied: matplotlib in c:\\users\\luffy\\anaconda\\lib\\site-packages (3.9.2)\n",
      "Requirement already satisfied: scikit-learn in c:\\users\\luffy\\anaconda\\lib\\site-packages (1.5.1)\n",
      "Requirement already satisfied: tqdm in c:\\users\\luffy\\anaconda\\lib\\site-packages (4.66.5)\n",
      "Requirement already satisfied: pydub in c:\\users\\luffy\\anaconda\\lib\\site-packages (0.25.1)\n",
      "Requirement already satisfied: audioread>=2.1.9 in c:\\users\\luffy\\anaconda\\lib\\site-packages (from librosa) (3.0.1)\n",
      "Requirement already satisfied: numba>=0.51.0 in c:\\users\\luffy\\anaconda\\lib\\site-packages (from librosa) (0.60.0)\n",
      "Requirement already satisfied: scipy>=1.6.0 in c:\\users\\luffy\\anaconda\\lib\\site-packages (from librosa) (1.13.1)\n",
      "Requirement already satisfied: joblib>=1.0 in c:\\users\\luffy\\anaconda\\lib\\site-packages (from librosa) (1.4.2)\n",
      "Requirement already satisfied: decorator>=4.3.0 in c:\\users\\luffy\\anaconda\\lib\\site-packages (from librosa) (5.1.1)\n",
      "Requirement already satisfied: soundfile>=0.12.1 in c:\\users\\luffy\\anaconda\\lib\\site-packages (from librosa) (0.13.1)\n",
      "Requirement already satisfied: pooch>=1.1 in c:\\users\\luffy\\anaconda\\lib\\site-packages (from librosa) (1.8.2)\n",
      "Requirement already satisfied: soxr>=0.3.2 in c:\\users\\luffy\\anaconda\\lib\\site-packages (from librosa) (0.5.0.post1)\n",
      "Requirement already satisfied: typing_extensions>=4.1.1 in c:\\users\\luffy\\anaconda\\lib\\site-packages (from librosa) (4.11.0)\n",
      "Requirement already satisfied: lazy_loader>=0.1 in c:\\users\\luffy\\anaconda\\lib\\site-packages (from librosa) (0.4)\n",
      "Requirement already satisfied: msgpack>=1.0 in c:\\users\\luffy\\anaconda\\lib\\site-packages (from librosa) (1.0.3)\n",
      "Requirement already satisfied: filelock in c:\\users\\luffy\\anaconda\\lib\\site-packages (from torch) (3.13.1)\n",
      "Requirement already satisfied: networkx in c:\\users\\luffy\\anaconda\\lib\\site-packages (from torch) (3.3)\n",
      "Requirement already satisfied: jinja2 in c:\\users\\luffy\\anaconda\\lib\\site-packages (from torch) (3.1.4)\n",
      "Requirement already satisfied: fsspec in c:\\users\\luffy\\anaconda\\lib\\site-packages (from torch) (2024.6.1)\n",
      "Requirement already satisfied: setuptools in c:\\users\\luffy\\anaconda\\lib\\site-packages (from torch) (75.1.0)\n",
      "Requirement already satisfied: sympy==1.13.1 in c:\\users\\luffy\\anaconda\\lib\\site-packages (from torch) (1.13.1)\n",
      "Requirement already satisfied: mpmath<1.4,>=1.1.0 in c:\\users\\luffy\\anaconda\\lib\\site-packages (from sympy==1.13.1->torch) (1.3.0)\n",
      "Requirement already satisfied: contourpy>=1.0.1 in c:\\users\\luffy\\anaconda\\lib\\site-packages (from matplotlib) (1.2.0)\n",
      "Requirement already satisfied: cycler>=0.10 in c:\\users\\luffy\\anaconda\\lib\\site-packages (from matplotlib) (0.11.0)\n",
      "Requirement already satisfied: fonttools>=4.22.0 in c:\\users\\luffy\\anaconda\\lib\\site-packages (from matplotlib) (4.51.0)\n",
      "Requirement already satisfied: kiwisolver>=1.3.1 in c:\\users\\luffy\\anaconda\\lib\\site-packages (from matplotlib) (1.4.4)\n",
      "Requirement already satisfied: packaging>=20.0 in c:\\users\\luffy\\anaconda\\lib\\site-packages (from matplotlib) (24.1)\n",
      "Requirement already satisfied: pillow>=8 in c:\\users\\luffy\\anaconda\\lib\\site-packages (from matplotlib) (10.4.0)\n",
      "Requirement already satisfied: pyparsing>=2.3.1 in c:\\users\\luffy\\anaconda\\lib\\site-packages (from matplotlib) (3.1.2)\n",
      "Requirement already satisfied: python-dateutil>=2.7 in c:\\users\\luffy\\anaconda\\lib\\site-packages (from matplotlib) (2.9.0.post0)\n",
      "Requirement already satisfied: threadpoolctl>=3.1.0 in c:\\users\\luffy\\anaconda\\lib\\site-packages (from scikit-learn) (3.5.0)\n",
      "Requirement already satisfied: colorama in c:\\users\\luffy\\anaconda\\lib\\site-packages (from tqdm) (0.4.6)\n",
      "Requirement already satisfied: llvmlite<0.44,>=0.43.0dev0 in c:\\users\\luffy\\anaconda\\lib\\site-packages (from numba>=0.51.0->librosa) (0.43.0)\n",
      "Requirement already satisfied: platformdirs>=2.5.0 in c:\\users\\luffy\\anaconda\\lib\\site-packages (from pooch>=1.1->librosa) (3.10.0)\n",
      "Requirement already satisfied: requests>=2.19.0 in c:\\users\\luffy\\anaconda\\lib\\site-packages (from pooch>=1.1->librosa) (2.32.3)\n",
      "Requirement already satisfied: six>=1.5 in c:\\users\\luffy\\anaconda\\lib\\site-packages (from python-dateutil>=2.7->matplotlib) (1.16.0)\n",
      "Requirement already satisfied: cffi>=1.0 in c:\\users\\luffy\\anaconda\\lib\\site-packages (from soundfile>=0.12.1->librosa) (1.17.1)\n",
      "Requirement already satisfied: MarkupSafe>=2.0 in c:\\users\\luffy\\anaconda\\lib\\site-packages (from jinja2->torch) (2.1.3)\n",
      "Requirement already satisfied: pycparser in c:\\users\\luffy\\anaconda\\lib\\site-packages (from cffi>=1.0->soundfile>=0.12.1->librosa) (2.21)\n",
      "Requirement already satisfied: charset-normalizer<4,>=2 in c:\\users\\luffy\\anaconda\\lib\\site-packages (from requests>=2.19.0->pooch>=1.1->librosa) (3.3.2)\n",
      "Requirement already satisfied: idna<4,>=2.5 in c:\\users\\luffy\\anaconda\\lib\\site-packages (from requests>=2.19.0->pooch>=1.1->librosa) (3.7)\n",
      "Requirement already satisfied: urllib3<3,>=1.21.1 in c:\\users\\luffy\\anaconda\\lib\\site-packages (from requests>=2.19.0->pooch>=1.1->librosa) (2.2.3)\n",
      "Requirement already satisfied: certifi>=2017.4.17 in c:\\users\\luffy\\anaconda\\lib\\site-packages (from requests>=2.19.0->pooch>=1.1->librosa) (2024.8.30)\n"
     ]
    }
   ],
   "source": [
    "!pip install librosa torch numpy matplotlib scikit-learn tqdm pydub"
   ]
  },
  {
   "cell_type": "code",
   "execution_count": 17,
   "id": "14d3d446-aff9-4cb7-b53c-efb1b73c842c",
   "metadata": {},
   "outputs": [
    {
     "name": "stdout",
     "output_type": "stream",
     "text": [
      "Name: torchNote: you may need to restart the kernel to use updated packages.\n",
      "\n",
      "Version: 2.6.0\n",
      "Summary: Tensors and Dynamic neural networks in Python with strong GPU acceleration\n",
      "Home-page: https://pytorch.org/\n",
      "Author: PyTorch Team\n",
      "Author-email: packages@pytorch.org\n",
      "License: BSD-3-Clause\n",
      "Location: C:\\Users\\luffy\\anaconda\\Lib\\site-packages\n",
      "Requires: filelock, fsspec, jinja2, networkx, setuptools, sympy, typing-extensions\n",
      "Required-by: \n"
     ]
    }
   ],
   "source": [
    "pip show torch\n"
   ]
  },
  {
   "cell_type": "code",
   "execution_count": 8,
   "id": "acf459bc-fb4d-48c1-9ee1-03bd4d84aa0e",
   "metadata": {},
   "outputs": [
    {
     "name": "stdout",
     "output_type": "stream",
     "text": [
      "Collecting pytubeNote: you may need to restart the kernel to use updated packages.\n",
      "\n",
      "  Downloading pytube-15.0.0-py3-none-any.whl.metadata (5.0 kB)\n",
      "Requirement already satisfied: pydub in c:\\users\\luffy\\anaconda\\lib\\site-packages (0.25.1)\n",
      "Requirement already satisfied: librosa in c:\\users\\luffy\\anaconda\\lib\\site-packages (0.11.0)\n",
      "Requirement already satisfied: numpy in c:\\users\\luffy\\anaconda\\lib\\site-packages (1.26.4)\n",
      "Requirement already satisfied: scikit-learn in c:\\users\\luffy\\anaconda\\lib\\site-packages (1.5.1)\n",
      "Requirement already satisfied: audioread>=2.1.9 in c:\\users\\luffy\\anaconda\\lib\\site-packages (from librosa) (3.0.1)\n",
      "Requirement already satisfied: numba>=0.51.0 in c:\\users\\luffy\\anaconda\\lib\\site-packages (from librosa) (0.60.0)\n",
      "Requirement already satisfied: scipy>=1.6.0 in c:\\users\\luffy\\anaconda\\lib\\site-packages (from librosa) (1.13.1)\n",
      "Requirement already satisfied: joblib>=1.0 in c:\\users\\luffy\\anaconda\\lib\\site-packages (from librosa) (1.4.2)\n",
      "Requirement already satisfied: decorator>=4.3.0 in c:\\users\\luffy\\anaconda\\lib\\site-packages (from librosa) (5.1.1)\n",
      "Requirement already satisfied: soundfile>=0.12.1 in c:\\users\\luffy\\anaconda\\lib\\site-packages (from librosa) (0.13.1)\n",
      "Requirement already satisfied: pooch>=1.1 in c:\\users\\luffy\\anaconda\\lib\\site-packages (from librosa) (1.8.2)\n",
      "Requirement already satisfied: soxr>=0.3.2 in c:\\users\\luffy\\anaconda\\lib\\site-packages (from librosa) (0.5.0.post1)\n",
      "Requirement already satisfied: typing_extensions>=4.1.1 in c:\\users\\luffy\\anaconda\\lib\\site-packages (from librosa) (4.11.0)\n",
      "Requirement already satisfied: lazy_loader>=0.1 in c:\\users\\luffy\\anaconda\\lib\\site-packages (from librosa) (0.4)\n",
      "Requirement already satisfied: msgpack>=1.0 in c:\\users\\luffy\\anaconda\\lib\\site-packages (from librosa) (1.0.3)\n",
      "Requirement already satisfied: threadpoolctl>=3.1.0 in c:\\users\\luffy\\anaconda\\lib\\site-packages (from scikit-learn) (3.5.0)\n",
      "Requirement already satisfied: packaging in c:\\users\\luffy\\anaconda\\lib\\site-packages (from lazy_loader>=0.1->librosa) (24.1)\n",
      "Requirement already satisfied: llvmlite<0.44,>=0.43.0dev0 in c:\\users\\luffy\\anaconda\\lib\\site-packages (from numba>=0.51.0->librosa) (0.43.0)\n",
      "Requirement already satisfied: platformdirs>=2.5.0 in c:\\users\\luffy\\anaconda\\lib\\site-packages (from pooch>=1.1->librosa) (3.10.0)\n",
      "Requirement already satisfied: requests>=2.19.0 in c:\\users\\luffy\\anaconda\\lib\\site-packages (from pooch>=1.1->librosa) (2.32.3)\n",
      "Requirement already satisfied: cffi>=1.0 in c:\\users\\luffy\\anaconda\\lib\\site-packages (from soundfile>=0.12.1->librosa) (1.17.1)\n",
      "Requirement already satisfied: pycparser in c:\\users\\luffy\\anaconda\\lib\\site-packages (from cffi>=1.0->soundfile>=0.12.1->librosa) (2.21)\n",
      "Requirement already satisfied: charset-normalizer<4,>=2 in c:\\users\\luffy\\anaconda\\lib\\site-packages (from requests>=2.19.0->pooch>=1.1->librosa) (3.3.2)\n",
      "Requirement already satisfied: idna<4,>=2.5 in c:\\users\\luffy\\anaconda\\lib\\site-packages (from requests>=2.19.0->pooch>=1.1->librosa) (3.7)\n",
      "Requirement already satisfied: urllib3<3,>=1.21.1 in c:\\users\\luffy\\anaconda\\lib\\site-packages (from requests>=2.19.0->pooch>=1.1->librosa) (2.2.3)\n",
      "Requirement already satisfied: certifi>=2017.4.17 in c:\\users\\luffy\\anaconda\\lib\\site-packages (from requests>=2.19.0->pooch>=1.1->librosa) (2024.8.30)\n",
      "Downloading pytube-15.0.0-py3-none-any.whl (57 kB)\n",
      "Installing collected packages: pytube\n",
      "Successfully installed pytube-15.0.0\n"
     ]
    }
   ],
   "source": [
    "pip install pytube pydub librosa numpy scikit-learn\n"
   ]
  },
  {
   "cell_type": "code",
   "execution_count": 1,
   "id": "6cd9c066-9a03-4d48-9514-fe854769fbac",
   "metadata": {},
   "outputs": [
    {
     "name": "stderr",
     "output_type": "stream",
     "text": [
      "c:\\Users\\luffy\\anaconda\\Lib\\site-packages\\paramiko\\pkey.py:82: CryptographyDeprecationWarning: TripleDES has been moved to cryptography.hazmat.decrepit.ciphers.algorithms.TripleDES and will be removed from this module in 48.0.0.\n",
      "  \"cipher\": algorithms.TripleDES,\n",
      "c:\\Users\\luffy\\anaconda\\Lib\\site-packages\\paramiko\\transport.py:219: CryptographyDeprecationWarning: Blowfish has been moved to cryptography.hazmat.decrepit.ciphers.algorithms.Blowfish and will be removed from this module in 45.0.0.\n",
      "  \"class\": algorithms.Blowfish,\n",
      "c:\\Users\\luffy\\anaconda\\Lib\\site-packages\\paramiko\\transport.py:243: CryptographyDeprecationWarning: TripleDES has been moved to cryptography.hazmat.decrepit.ciphers.algorithms.TripleDES and will be removed from this module in 48.0.0.\n",
      "  \"class\": algorithms.TripleDES,\n",
      "C:\\Users\\luffy\\AppData\\Local\\Temp\\ipykernel_18868\\1379775015.py:30: RuntimeWarning: Mean of empty slice\n",
      "  pitch = np.nanmean(f0) if f0 is not None else 0\n"
     ]
    },
    {
     "data": {
      "text/plain": [
       "(0.9693396226415094,\n",
       " '              precision    recall  f1-score   support\\n\\n       angry       1.00      0.97      0.99       237\\n        calm       0.90      0.92      0.91        76\\n     disgust       0.94      0.94      0.94       237\\n        fear       0.97      0.97      0.97       237\\n       happy       0.99      0.97      0.98       237\\n     neutral       1.00      0.99      0.99       198\\n         sad       0.95      0.97      0.96       237\\n    surprise       0.96      0.99      0.98       237\\n\\n    accuracy                           0.97      1696\\n   macro avg       0.96      0.97      0.96      1696\\nweighted avg       0.97      0.97      0.97      1696\\n')"
      ]
     },
     "execution_count": 1,
     "metadata": {},
     "output_type": "execute_result"
    }
   ],
   "source": [
    "import os\n",
    "import numpy as np\n",
    "import pandas as pd\n",
    "import librosa\n",
    "from sklearn.ensemble import RandomForestClassifier\n",
    "from sklearn.model_selection import train_test_split\n",
    "from sklearn.preprocessing import LabelEncoder, StandardScaler\n",
    "from sklearn.metrics import classification_report, accuracy_score\n",
    "\n",
    "# Paths to the datasets\n",
    "tess_dir = r\"E:\\Downloads\\TESS Toronto emotional speech set data\"\n",
    "ravdess_dir = r\"E:\\Downloads\\archive\\RAVDESS\"\n",
    "\n",
    "# Emotion mapping\n",
    "emotion_map = {\n",
    "    'angry': 'angry', 'disgust': 'disgust', 'fear': 'fear', 'happy': 'happy',\n",
    "    'neutral': 'neutral', 'ps': 'surprise', 'sad': 'sad',\n",
    "    '01': 'neutral', '02': 'calm', '03': 'happy', '04': 'sad',\n",
    "    '05': 'angry', '06': 'fear', '07': 'disgust', '08': 'surprise'\n",
    "}\n",
    "\n",
    "# Feature extraction function\n",
    "def extract_audio_features(filename):\n",
    "    y, sr = librosa.load(filename, duration=3, offset=0.5)\n",
    "    mfcc = np.mean(librosa.feature.mfcc(y=y, sr=sr, n_mfcc=40).T, axis=0)\n",
    "    stft = np.abs(librosa.stft(y))\n",
    "    chroma = np.mean(librosa.feature.chroma_stft(S=stft, sr=sr).T, axis=0)\n",
    "    mel = np.mean(librosa.feature.melspectrogram(y=y, sr=sr).T, axis=0)\n",
    "    f0, _, _ = librosa.pyin(y, fmin=librosa.note_to_hz('C2'), fmax=librosa.note_to_hz('C7'))\n",
    "    pitch = np.nanmean(f0) if f0 is not None else 0\n",
    "    zcr = np.mean(librosa.feature.zero_crossing_rate(y).T, axis=0)\n",
    "    rms = np.mean(librosa.feature.rms(y=y).T, axis=0)\n",
    "    cent = np.mean(librosa.feature.spectral_centroid(y=y, sr=sr).T, axis=0)\n",
    "    bw = np.mean(librosa.feature.spectral_bandwidth(y=y, sr=sr).T, axis=0)\n",
    "    return np.hstack([mfcc, chroma, mel, pitch, zcr, rms, cent, bw])\n",
    "\n",
    "# Load dataset paths and labels\n",
    "def load_dataset(tess_dir, ravdess_dir):\n",
    "    data = []\n",
    "    # TESS dataset\n",
    "    for root, _, files in os.walk(tess_dir):\n",
    "        for file in files:\n",
    "            if file.endswith(\".wav\"):\n",
    "                path = os.path.join(root, file)\n",
    "                label = file.split('_')[-1].split('.')[0].lower()\n",
    "                if label in emotion_map:\n",
    "                    data.append([path, emotion_map[label]])\n",
    "\n",
    "    # RAVDESS dataset\n",
    "    for root, _, files in os.walk(ravdess_dir):\n",
    "        for file in files:\n",
    "            if file.endswith(\".wav\"):\n",
    "                path = os.path.join(root, file)\n",
    "                label_code = file.split('-')[2]\n",
    "                if label_code in emotion_map:\n",
    "                    data.append([path, emotion_map[label_code]])\n",
    "\n",
    "    return pd.DataFrame(data, columns=[\"path\", \"emotion\"])\n",
    "\n",
    "# Load data\n",
    "df = load_dataset(tess_dir, ravdess_dir)\n",
    "\n",
    "# Extract features\n",
    "X_features = df['path'].apply(extract_audio_features)\n",
    "X = np.array(X_features.tolist())\n",
    "\n",
    "# Encode labels\n",
    "le = LabelEncoder()\n",
    "y = le.fit_transform(df['emotion'])\n",
    "\n",
    "# Standardize features\n",
    "scaler = StandardScaler()\n",
    "X_scaled = scaler.fit_transform(X)\n",
    "\n",
    "# Split data\n",
    "X_train, X_test, y_train, y_test = train_test_split(X_scaled, y, test_size=0.2, stratify=y, random_state=42)\n",
    "\n",
    "# Train model\n",
    "model = RandomForestClassifier(n_estimators=100, random_state=42)\n",
    "model.fit(X_train, y_train)\n",
    "\n",
    "# Predictions\n",
    "y_pred = model.predict(X_test)\n",
    "\n",
    "# Evaluation\n",
    "accuracy = accuracy_score(y_test, y_pred)\n",
    "report = classification_report(y_test, y_pred, target_names=le.classes_)\n",
    "\n",
    "accuracy, report\n"
   ]
  },
  {
   "cell_type": "code",
   "execution_count": 2,
   "id": "53feca72-1545-4c8e-9db9-a15374bf8441",
   "metadata": {},
   "outputs": [
    {
     "name": "stdout",
     "output_type": "stream",
     "text": [
      "Predicted Emotion: fearful\n",
      "\n",
      "Emotion Embeddings (Probabilities):\n",
      "angry: 0.1700\n",
      "calm: 0.0000\n",
      "disgust: 0.0400\n",
      "fearful: 0.3000\n",
      "happy: 0.2400\n",
      "neutral: 0.0100\n",
      "sad: 0.0400\n",
      "surprised: 0.2000\n"
     ]
    },
    {
     "data": {
      "image/png": "[encoded data removed]",
      "text/plain": [
       "<Figure size 1000x500 with 1 Axes>"
      ]
     },
     "metadata": {},
     "output_type": "display_data"
    }
   ],
   "source": [
    "import librosa\n",
    "import numpy as np\n",
    "import matplotlib.pyplot as plt\n",
    "\n",
    "# Function to extract features\n",
    "def extract_audio_features(filename):\n",
    "    y, sr = librosa.load(filename, duration=3, offset=0.5)\n",
    "    mfcc = np.mean(librosa.feature.mfcc(y=y, sr=sr, n_mfcc=40).T, axis=0)\n",
    "    stft = np.abs(librosa.stft(y))\n",
    "    chroma = np.mean(librosa.feature.chroma_stft(S=stft, sr=sr).T, axis=0)\n",
    "    mel = np.mean(librosa.feature.melspectrogram(y=y, sr=sr).T, axis=0)\n",
    "    f0, _, _ = librosa.pyin(y, fmin=librosa.note_to_hz('C2'), fmax=librosa.note_to_hz('C7'))\n",
    "    pitch = np.nanmean(f0) if f0 is not None else 0\n",
    "    zcr = np.mean(librosa.feature.zero_crossing_rate(y).T, axis=0)\n",
    "    rms = np.mean(librosa.feature.rms(y=y).T, axis=0)\n",
    "    cent = np.mean(librosa.feature.spectral_centroid(y=y, sr=sr).T, axis=0)\n",
    "    bw = np.mean(librosa.feature.spectral_bandwidth(y=y, sr=sr).T, axis=0)\n",
    "    return np.hstack([mfcc, chroma, mel, pitch, zcr, rms, cent, bw])\n",
    "\n",
    "# Replace this with your audio file path\n",
    "external_audio_path = r\"E:\\Downloads\\woman crying and sobbing SoundEffectsFactory.mp3\"\n",
    "\n",
    "# Emotion labels dictionary\n",
    "emotion_labels = {\n",
    "    0: 'angry',\n",
    "    1: 'calm',\n",
    "    2: 'disgust',\n",
    "    3: 'fearful',\n",
    "    4: 'happy',\n",
    "    5: 'neutral',\n",
    "    6: 'sad',\n",
    "    7: 'surprised'\n",
    "}\n",
    "\n",
    "# Extract features\n",
    "external_features = extract_audio_features(external_audio_path).reshape(1, -1)\n",
    "\n",
    "# Predict\n",
    "predicted_probs = model.predict_proba(external_features)[0]\n",
    "predicted_idx = np.argmax(predicted_probs)\n",
    "predicted_emotion = emotion_labels[predicted_idx]\n",
    "\n",
    "# Emotion embeddings\n",
    "emotion_embeddings = {emotion_labels[i]: prob for i, prob in enumerate(predicted_probs)}\n",
    "\n",
    "# --------------- Final Display ----------------\n",
    "print(f\"Predicted Emotion: {predicted_emotion}\\n\")\n",
    "print(\"Emotion Embeddings (Probabilities):\")\n",
    "for emotion, prob in emotion_embeddings.items():\n",
    "    print(f\"{emotion}: {prob:.4f}\")\n",
    "\n",
    "# --------------- Plotting ----------------\n",
    "plt.figure(figsize=(10, 5))\n",
    "plt.bar(emotion_embeddings.keys(), emotion_embeddings.values(), color='skyblue')\n",
    "plt.title(f'Emotion Embeddings for Audio File\\nPredicted: {predicted_emotion}')\n",
    "plt.xlabel('Emotion')\n",
    "plt.ylabel('Probability')\n",
    "plt.xticks(rotation=45)\n",
    "plt.grid(axis='y')\n",
    "plt.tight_layout()\n",
    "plt.show()\n",
    "\n",
    "\n",
    "\n",
    "\n",
    "\n",
    "\n",
    "\n"
   ]
  },
  {
   "cell_type": "code",
   "execution_count": 3,
   "id": "c3448015-4917-4c5e-b315-eab3c3a32726",
   "metadata": {},
   "outputs": [
    {
     "data": {
      "text/plain": [
       "['emotion_model.pkl']"
      ]
     },
     "execution_count": 3,
     "metadata": {},
     "output_type": "execute_result"
    }
   ],
   "source": [
    "import joblib\n",
    "\n",
    "# Assume your trained model is called \"model\"\n",
    "joblib.dump(model, \"emotion_model.pkl\")\n"
   ]
  },
  {
   "cell_type": "code",
   "execution_count": 4,
   "id": "9766712b-c02a-4d73-8ad5-2ea5d55303fe",
   "metadata": {},
   "outputs": [
    {
     "ename": "NameError",
     "evalue": "name 'label_encoder' is not defined",
     "output_type": "error",
     "traceback": [
      "\u001b[1;31m---------------------------------------------------------------------------\u001b[0m",
      "\u001b[1;31mNameError\u001b[0m                                 Traceback (most recent call last)",
      "Cell \u001b[1;32mIn[4], line 9\u001b[0m\n\u001b[0;32m      7\u001b[0m \u001b[38;5;66;03m# Save label encoder\u001b[39;00m\n\u001b[0;32m      8\u001b[0m \u001b[38;5;28;01mwith\u001b[39;00m \u001b[38;5;28mopen\u001b[39m(\u001b[38;5;124m'\u001b[39m\u001b[38;5;124mlabel_encoder.pkl\u001b[39m\u001b[38;5;124m'\u001b[39m, \u001b[38;5;124m'\u001b[39m\u001b[38;5;124mwb\u001b[39m\u001b[38;5;124m'\u001b[39m) \u001b[38;5;28;01mas\u001b[39;00m f:\n\u001b[1;32m----> 9\u001b[0m     pickle\u001b[38;5;241m.\u001b[39mdump(label_encoder, f)\n",
      "\u001b[1;31mNameError\u001b[0m: name 'label_encoder' is not defined"
     ]
    }
   ],
   "source": [
    "import pickle\n",
    "\n",
    "# Save model\n",
    "with open('emotion_model.pkl', 'wb') as f:\n",
    "    pickle.dump(model, f)\n",
    "\n",
    "# Save label encoder\n",
    "with open('label_encoder.pkl', 'wb') as f:\n",
    "    pickle.dump(label_encoder, f)\n"
   ]
  },
  {
   "cell_type": "code",
   "execution_count": 5,
   "id": "6b87797f-53ca-4b28-ace0-d9a945679f4a",
   "metadata": {},
   "outputs": [
    {
     "name": "stdout",
     "output_type": "stream",
     "text": [
      "1.5.1\n"
     ]
    }
   ],
   "source": [
    "import sklearn\n",
    "print(sklearn.__version__)\n"
   ]
  },
  {
   "cell_type": "code",
   "execution_count": 6,
   "id": "26b31980",
   "metadata": {},
   "outputs": [
    {
     "name": "stdout",
     "output_type": "stream",
     "text": [
      "Collecting scikit-learn==1.3.0Note: you may need to restart the kernel to use updated packages.\n",
      "\n",
      "  Downloading scikit-learn-1.3.0.tar.gz (7.5 MB)\n",
      "     ---------------------------------------- 0.0/7.5 MB ? eta -:--:--\n",
      "     --------- ------------------------------ 1.8/7.5 MB 9.1 MB/s eta 0:00:01\n",
      "     ----------------------- ---------------- 4.5/7.5 MB 9.9 MB/s eta 0:00:01\n",
      "     ------------------------------------ --- 6.8/7.5 MB 10.5 MB/s eta 0:00:01\n",
      "     ---------------------------------------  7.3/7.5 MB 10.8 MB/s eta 0:00:01\n",
      "     ---------------------------------------- 7.5/7.5 MB 7.8 MB/s eta 0:00:00\n",
      "  Installing build dependencies: started\n",
      "  Installing build dependencies: still running...\n",
      "  Installing build dependencies: still running...\n",
      "  Installing build dependencies: finished with status 'done'\n",
      "  Getting requirements to build wheel: started\n",
      "  Getting requirements to build wheel: finished with status 'done'\n",
      "  Preparing metadata (pyproject.toml): started\n",
      "  Preparing metadata (pyproject.toml): finished with status 'error'\n"
     ]
    },
    {
     "name": "stderr",
     "output_type": "stream",
     "text": [
      "  error: subprocess-exited-with-error\n",
      "  \n",
      "  × Preparing metadata (pyproject.toml) did not run successfully.\n",
      "  │ exit code: 1\n",
      "  ╰─> [53 lines of output]\n",
      "      Partial import of sklearn during the build process.\n",
      "      test_program.c\n",
      "      test_program.c(1): fatal error C1083: Cannot open include file: 'stdio.h': No such file or directory\n",
      "      Traceback (most recent call last):\n",
      "        File \"C:\\Users\\luffy\\AppData\\Local\\Temp\\pip-build-env-x684zjvo\\overlay\\Lib\\site-packages\\setuptools\\_distutils\\spawn.py\", line 87, in spawn\n",
      "          subprocess.check_call(cmd, env=_inject_macos_ver(env))\n",
      "        File \"c:\\Users\\luffy\\anaconda\\Lib\\subprocess.py\", line 413, in check_call\n",
      "          raise CalledProcessError(retcode, cmd)\n",
      "      subprocess.CalledProcessError: Command '['C:\\\\Program Files (x86)\\\\Microsoft Visual Studio\\\\2022\\\\BuildTools\\\\VC\\\\Tools\\\\MSVC\\\\14.41.34120\\\\bin\\\\HostX86\\\\x64\\\\cl.exe', '/c', '/nologo', '/O2', '/W3', '/GL', '/DNDEBUG', '/MD', '-IC:\\\\Program Files (x86)\\\\Microsoft Visual Studio\\\\2022\\\\BuildTools\\\\VC\\\\Tools\\\\MSVC\\\\14.41.34120\\\\include', '-IC:\\\\Program Files (x86)\\\\Microsoft Visual Studio\\\\2022\\\\BuildTools\\\\VC\\\\Auxiliary\\\\VS\\\\include', '/Tctest_program.c', '/Foobjects\\\\test_program.obj']' returned non-zero exit status 2.\n",
      "      \n",
      "      The above exception was the direct cause of the following exception:\n",
      "      \n",
      "      Traceback (most recent call last):\n",
      "        File \"C:\\Users\\luffy\\AppData\\Local\\Temp\\pip-build-env-x684zjvo\\overlay\\Lib\\site-packages\\setuptools\\_distutils\\compilers\\C\\msvc.py\", line 460, in compile\n",
      "          self.spawn(args)\n",
      "        File \"C:\\Users\\luffy\\AppData\\Local\\Temp\\pip-build-env-x684zjvo\\overlay\\Lib\\site-packages\\setuptools\\_distutils\\compilers\\C\\msvc.py\", line 563, in spawn\n",
      "          return super().spawn(cmd, env=env)\n",
      "                 ^^^^^^^^^^^^^^^^^^^^^^^^^^^\n",
      "        File \"C:\\Users\\luffy\\AppData\\Local\\Temp\\pip-build-env-x684zjvo\\overlay\\Lib\\site-packages\\setuptools\\_distutils\\compilers\\C\\base.py\", line 1158, in spawn\n",
      "          spawn(cmd, dry_run=self.dry_run, **kwargs)\n",
      "        File \"C:\\Users\\luffy\\AppData\\Local\\Temp\\pip-build-env-x684zjvo\\overlay\\Lib\\site-packages\\setuptools\\_distutils\\spawn.py\", line 93, in spawn\n",
      "          raise DistutilsExecError(\n",
      "      distutils.errors.DistutilsExecError: command 'C:\\\\Program Files (x86)\\\\Microsoft Visual Studio\\\\2022\\\\BuildTools\\\\VC\\\\Tools\\\\MSVC\\\\14.41.34120\\\\bin\\\\HostX86\\\\x64\\\\cl.exe' failed with exit code 2\n",
      "      \n",
      "      During handling of the above exception, another exception occurred:\n",
      "      \n",
      "      Traceback (most recent call last):\n",
      "        File \"c:\\Users\\luffy\\anaconda\\Lib\\site-packages\\pip\\_vendor\\pyproject_hooks\\_in_process\\_in_process.py\", line 353, in <module>\n",
      "          main()\n",
      "        File \"c:\\Users\\luffy\\anaconda\\Lib\\site-packages\\pip\\_vendor\\pyproject_hooks\\_in_process\\_in_process.py\", line 335, in main\n",
      "          json_out['return_val'] = hook(**hook_input['kwargs'])\n",
      "                                   ^^^^^^^^^^^^^^^^^^^^^^^^^^^^\n",
      "        File \"c:\\Users\\luffy\\anaconda\\Lib\\site-packages\\pip\\_vendor\\pyproject_hooks\\_in_process\\_in_process.py\", line 149, in prepare_metadata_for_build_wheel\n",
      "          return hook(metadata_directory, config_settings)\n",
      "                 ^^^^^^^^^^^^^^^^^^^^^^^^^^^^^^^^^^^^^^^^^\n",
      "        File \"C:\\Users\\luffy\\AppData\\Local\\Temp\\pip-build-env-x684zjvo\\overlay\\Lib\\site-packages\\setuptools\\build_meta.py\", line 374, in prepare_metadata_for_build_wheel\n",
      "          self.run_setup()\n",
      "        File \"C:\\Users\\luffy\\AppData\\Local\\Temp\\pip-build-env-x684zjvo\\overlay\\Lib\\site-packages\\setuptools\\build_meta.py\", line 512, in run_setup\n",
      "          super().run_setup(setup_script=setup_script)\n",
      "        File \"C:\\Users\\luffy\\AppData\\Local\\Temp\\pip-build-env-x684zjvo\\overlay\\Lib\\site-packages\\setuptools\\build_meta.py\", line 317, in run_setup\n",
      "          exec(code, locals())\n",
      "        File \"<string>\", line 626, in <module>\n",
      "        File \"<string>\", line 620, in setup_package\n",
      "        File \"<string>\", line 554, in configure_extension_modules\n",
      "        File \"C:\\Users\\luffy\\AppData\\Local\\Temp\\pip-install-blkam5uc\\scikit-learn_12ea72083f8c4876bfd66ca0c6e96fe7\\sklearn\\_build_utils\\__init__.py\", line 46, in cythonize_extensions\n",
      "          basic_check_build()\n",
      "        File \"C:\\Users\\luffy\\AppData\\Local\\Temp\\pip-install-blkam5uc\\scikit-learn_12ea72083f8c4876bfd66ca0c6e96fe7\\sklearn\\_build_utils\\pre_build_helpers.py\", line 73, in basic_check_build\n",
      "          compile_test_program(code)\n",
      "        File \"C:\\Users\\luffy\\AppData\\Local\\Temp\\pip-install-blkam5uc\\scikit-learn_12ea72083f8c4876bfd66ca0c6e96fe7\\sklearn\\_build_utils\\pre_build_helpers.py\", line 31, in compile_test_program\n",
      "          ccompiler.compile(\n",
      "        File \"C:\\Users\\luffy\\AppData\\Local\\Temp\\pip-build-env-x684zjvo\\overlay\\Lib\\site-packages\\setuptools\\_distutils\\compilers\\C\\msvc.py\", line 462, in compile\n",
      "          raise CompileError(msg)\n",
      "      distutils.compilers.C.errors.CompileError: command 'C:\\\\Program Files (x86)\\\\Microsoft Visual Studio\\\\2022\\\\BuildTools\\\\VC\\\\Tools\\\\MSVC\\\\14.41.34120\\\\bin\\\\HostX86\\\\x64\\\\cl.exe' failed with exit code 2\n",
      "      [end of output]\n",
      "  \n",
      "  note: This error originates from a subprocess, and is likely not a problem with pip.\n",
      "error: metadata-generation-failed\n",
      "\n",
      "× Encountered error while generating package metadata.\n",
      "╰─> See above for output.\n",
      "\n",
      "note: This is an issue with the package mentioned above, not pip.\n",
      "hint: See above for details.\n"
     ]
    }
   ],
   "source": [
    "pip install scikit-learn==1.3.0\n"
   ]
  },
  {
   "cell_type": "code",
   "execution_count": 7,
   "id": "1f953f6d",
   "metadata": {},
   "outputs": [],
   "source": [
    "import pickle\n",
    "\n",
    "with open('emotion_model.pkl', 'rb') as file:\n",
    "    model = pickle.load(file)\n"
   ]
  }
 ],
 "metadata": {
  "kernelspec": {
   "display_name": "base",
   "language": "python",
   "name": "python3"
  },
  "language_info": {
   "codemirror_mode": {
    "name": "ipython",
    "version": 3
   },
   "file_extension": ".py",
   "mimetype": "text/x-python",
   "name": "python",
   "nbconvert_exporter": "python",
   "pygments_lexer": "ipython3",
   "version": "3.12.7"
  }
 },
 "nbformat": 4,
 "nbformat_minor": 5
}
